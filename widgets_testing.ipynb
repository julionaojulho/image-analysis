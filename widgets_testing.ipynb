{
 "cells": [
  {
   "cell_type": "code",
   "execution_count": 68,
   "metadata": {
    "collapsed": true
   },
   "outputs": [],
   "source": [
    "import CoolProp.CoolProp as CP\n",
    "import matplotlib.pyplot as plt\n",
    "import numpy as np\n",
    "\n",
    "def plot_sat(Fluid, chart, ax=None, subplot=False, numpoints=200):\n",
    "    if ax == None:\n",
    "        fig, ax = plt.subplots(1, 1, figsize=(8,6))\n",
    "    prop1, prop2 = chart[0], chart[1]\n",
    "    # propriedade crítica\n",
    "    p_crit = CP.PropsSI('pcrit', Fluid)\n",
    "    T_crit = CP.PropsSI('Tcrit', Fluid)\n",
    "    rho_crit = CP.PropsSI('rhocrit', Fluid)\n",
    "    h_crit = CP.PropsSI('H', 'P', p_crit, 'T', T_crit, Fluid)\n",
    "    s_crit = CP.PropsSI('S', 'P', p_crit, 'T', T_crit, Fluid)\n",
    "    \n",
    "    # valor mínimo\n",
    "    p_min = CP.PropsSI('ptriple', Fluid) + 100\n",
    "    T_min = CP.PropsSI('Ttriple', Fluid) + 0.1\n",
    "    rho_min = CP.PropsSI('D', 'P', p_min, 'T', T_min, Fluid)\n",
    "    h_min = CP.PropsSI('H', 'P', p_min, 'T', T_min, Fluid)\n",
    "    s_min = CP.PropsSI('S', 'P', p_min, 'T', T_min, Fluid)\n",
    "    \n",
    "    # Dicionário de propriedades\n",
    "    prop_dict = {'p': ['Pressão (kPa)', 'P', p_crit, p_min],\n",
    "                 'T': ['Temperatura (K)', 'T', T_crit, T_min],\n",
    "                 'v': ['Volume específico (m3/kg)', 'D', rho_crit, rho_min],\n",
    "                 'h': ['Entalpia (kJ/kg)', 'H', h_crit, h_min],\n",
    "                 's': ['Entropia (kJ/kg.K)', 'S', s_crit, s_min]}\n",
    "    \n",
    "    # cálculo\n",
    "    entry = prop_dict[prop1]\n",
    "    out = prop_dict[prop2]\n",
    "    prop1_array = np.linspace(entry[3], entry[2], numpoints)\n",
    "    prop2_array = np.zeros(2 * numpoints - 1)\n",
    "    for i, var in enumerate(prop1_array[:-1]):\n",
    "        prop2_array[i] = CP.PropsSI(out[1], 'Q', 0, entry[1], var, Fluid)\n",
    "        prop2_array[::-1][i] = CP.PropsSI(out[1], 'Q', 1, entry[1], var, Fluid)\n",
    "    prop2_array[numpoints - 1] = out[2]\n",
    "    prop1_array = np.append(prop1_array, prop1_array[::-1][1:])\n",
    "       \n",
    "    # Plotando o gráfico\n",
    "    \n",
    "    if chart == 'pv':\n",
    "        ax.loglog(1 / prop2_array, prop1_array / 1000)\n",
    "        ax.set_xlim(min(1 / prop2_array) / 10, max(1 / prop2_array) * 10)\n",
    "    elif chart == 'Ts':\n",
    "        ax.plot(prop2_array / 1000, prop1_array)\n",
    "    elif chart == 'ph' or chart == 'pT':\n",
    "        if prop2 == 'h':\n",
    "            prop2_array = prop2_array / 1000\n",
    "        ax.semilogy(prop2_array, prop1_array / 1000)\n",
    "    elif chart == 'Tv':\n",
    "        ax.semilogx(1 / prop2_array, prop1_array)\n",
    "        ax.set_xlim(min(1 / prop2_array) / 10, max(1 / prop2_array) * 10)\n",
    "    ax.set_title(chart + '-diagram')\n",
    "    ax.set_xlabel(out[0])\n",
    "    ax.set_ylabel(entry[0])\n",
    "    if not subplot:\n",
    "        plt.show()\n",
    "        \n",
    "def rankine(Fluid, T, p_low, p_high, eta_pump=1.0, eta_turb=1.0):   \n",
    "    T_1 = T\n",
    "    T_3 = CP.PropsSI('T', 'P', p_high, 'Q', 1, Fluid)\n",
    "    s_1 = CP.PropsSI('S', 'P', p_low, 'T', T_1, Fluid)\n",
    "    s_2 = s_1 / eta_pump\n",
    "    T_2 = CP.PropsSI('T', 'P', p_high, 'S', s_2, Fluid)\n",
    "    s_3 = CP.PropsSI('S', 'Q', 1, 'T', T_3, Fluid)\n",
    "    s_range = np.linspace(s_2, s_3, 50)    \n",
    "    T_range = [CP.PropsSI('T', 'P', p_high, 'S', s, Fluid) for s in s_range]    \n",
    "    s_4 =  s_3 / eta_turb\n",
    "    T_4 = T_1\n",
    "    plt.plot([s_1 / 1000, s_2 / 1000], [T, T_2], 'k')\n",
    "    plt.plot(s_range / 1000, T_range, 'k')\n",
    "    plt.plot([s_3 / 1000, s_4 / 1000], [T_3, T_4], 'k')\n",
    "    plt.plot([s_4 / 1000, s_1 / 1000], [T_4, T_1], 'k')\n",
    "    "
   ]
  },
  {
   "cell_type": "code",
   "execution_count": 72,
   "metadata": {},
   "outputs": [
    {
     "data": {
      "application/vnd.jupyter.widget-view+json": {
       "model_id": "6c9801ec944b44a7896332987fc974e0"
      }
     },
     "metadata": {},
     "output_type": "display_data"
    }
   ],
   "source": [
    "import matplotlib.pyplot as plt\n",
    "%matplotlib inline\n",
    "from ipywidgets import interact, IntSlider, FloatSlider\n",
    "import numpy as np\n",
    "import CoolProp.CoolProp as CP\n",
    "\n",
    "Fluid = 'Acetone'\n",
    "M = CP.PropsSI('M', Fluid) * 1000\n",
    "v = np.logspace(-3, 2, 500) * M\n",
    "a = 16.02\n",
    "b = 0.1124\n",
    "\n",
    "fig = plt.figure()\n",
    "def f(T):\n",
    "    plot_sat(Fluid, 'pv',subplot=True)\n",
    "    plt.plot(1 / CP.PropsSI('rhocrit', Fluid), CP.PropsSI('Pcrit', Fluid) / 1000, 'ok')\n",
    "    plt.loglog(v / M, (8.314 * T / (v - b) - (a * 100)/(v)**2), label='EOS - van der Waals')\n",
    "    fig.canvas.draw()\n",
    "    plt.legend()\n",
    "    plt.show()\n",
    "interact(f, T=IntSlider(430, 430, 530, 10, description='Temperature (K)'));"
   ]
  },
  {
   "cell_type": "code",
   "execution_count": 73,
   "metadata": {},
   "outputs": [
    {
     "data": {
      "application/vnd.jupyter.widget-view+json": {
       "model_id": "fb92b449894a4f8c98446e3f59c77896"
      }
     },
     "metadata": {},
     "output_type": "display_data"
    }
   ],
   "source": [
    "Fluid = 'Water'\n",
    "M = CP.PropsSI('M', Fluid) * 1000\n",
    "v = np.logspace(-3, 2, 500) * M\n",
    "a = 5.536\n",
    "b = 0.03049\n",
    "\n",
    "fig = plt.figure()\n",
    "def f(eta):\n",
    "    plot_sat(Fluid, 'Ts',subplot=True)\n",
    "    rankine('Water', 300, 100000, 2000000, 0.75, eta)\n",
    "    fig.canvas.draw()\n",
    "    #plt.legend()\n",
    "    plt.show()\n",
    "interact(f, eta=FloatSlider(value=0.7, min=0.1, max=1.0, step=0.1));"
   ]
  },
  {
   "cell_type": "code",
   "execution_count": 51,
   "metadata": {},
   "outputs": [
    {
     "data": {
      "image/png": "[encoded data removed]",
      "text/plain": [
       "<matplotlib.figure.Figure at 0x2d897a53860>"
      ]
     },
     "metadata": {},
     "output_type": "display_data"
    }
   ],
   "source": [
    "def rankine(Fluid, T, p_low, p_high, eta_pump=1.0, eta_turb=1.0):   \n",
    "    T_1 = T\n",
    "    T_3 = CP.PropsSI('T', 'P', p_high, 'Q', 1, Fluid)\n",
    "    s_1 = CP.PropsSI('S', 'P', p_low, 'T', T_1, Fluid)\n",
    "    s_2 = s_1 / eta_pump\n",
    "    T_2 = CP.PropsSI('T', 'P', p_high, 'S', s_2, Fluid)\n",
    "    s_3 = CP.PropsSI('S', 'Q', 1, 'T', T_3, Fluid)\n",
    "    s_range = np.linspace(s_2, s_3, 50)    \n",
    "    T_range = [CP.PropsSI('T', 'P', p_high, 'S', s, Fluid) for s in s_range]    \n",
    "    s_4 = eta_turb * s_3\n",
    "    T_4 = T_1\n",
    "    plt.plot([s_1 / 1000, s_2 / 1000], [T, T_2], 'k')\n",
    "    plt.plot(s_range / 1000, T_range, 'k')\n",
    "    plt.plot([s_3 / 1000, s_4 / 1000], [T_3, T_4], 'k')\n",
    "    plt.plot([s_4 / 1000, s_1 / 1000], [T_4, T_1], 'k')\n",
    "rankine('Water', 300, 100000, 600000, eta_turb=0.5)\n",
    "    "
   ]
  },
  {
   "cell_type": "code",
   "execution_count": null,
   "metadata": {
    "collapsed": true
   },
   "outputs": [],
   "source": []
  }
 ],
 "metadata": {
  "kernelspec": {
   "display_name": "Python [default]",
   "language": "python",
   "name": "python3"
  },
  "language_info": {
   "codemirror_mode": {
    "name": "ipython",
    "version": 3
   },
   "file_extension": ".py",
   "mimetype": "text/x-python",
   "name": "python",
   "nbconvert_exporter": "python",
   "pygments_lexer": "ipython3",
   "version": "3.5.3"
  }
 },
 "nbformat": 4,
 "nbformat_minor": 2
}
