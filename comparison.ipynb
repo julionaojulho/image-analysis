{
 "cells": [
  {
   "cell_type": "code",
   "execution_count": 1,
   "metadata": {
    "collapsed": true,
    "slideshow": {
     "slide_type": "skip"
    }
   },
   "outputs": [],
   "source": [
    "def hide_code_in_slideshow():\n",
    "    import os\n",
    "    uid = os.urandom(8).hex()\n",
    "    html = \"\"\"<div id=\"%s\"></div>\n",
    "    <script type=\"text/javascript\">\n",
    "        $(function(){\n",
    "            var p = $(\"#%s\");\n",
    "            if (p.length==0) return;\n",
    "\n",
    "            while (!p.hasClass(\"cell\")) {\n",
    "                p=p.parent();\n",
    "\n",
    "                if (p.prop(\"tagName\") ==\"body\") return;\n",
    "            }\n",
    "            var cell = p;\n",
    "            cell.find(\".input\").addClass(\"hide-in-slideshow\")\n",
    "        });\n",
    "    </script>\"\"\" % (uid, uid)\n",
    "    display_html(html, raw=True)"
   ]
  },
  {
   "cell_type": "code",
   "execution_count": 2,
   "metadata": {
    "collapsed": false,
    "slideshow": {
     "slide_type": "skip"
    }
   },
   "outputs": [
    {
     "data": {
      "text/html": [
       "<style>\n",
       " .container.slides .celltoolbar, .container.slides .hide-in-slideshow {\n",
       "    display: None ! important;\n",
       "}\n",
       "</style>"
      ],
      "text/plain": [
       "<IPython.core.display.HTML object>"
      ]
     },
     "metadata": {},
     "output_type": "display_data"
    }
   ],
   "source": [
    "%%html\n",
    "<style>\n",
    " .container.slides .celltoolbar, .container.slides .hide-in-slideshow {\n",
    "    display: None ! important;\n",
    "}\n",
    "</style>"
   ]
  },
  {
   "cell_type": "markdown",
   "metadata": {
    "nbpresent": {
     "id": "f96a2a0c-8b26-4160-b025-23d63eefbeba"
    },
    "slideshow": {
     "slide_type": "slide"
    }
   },
   "source": [
    "\n",
    "# Interface detection vs Image superposition"
   ]
  },
  {
   "cell_type": "markdown",
   "metadata": {
    "nbpresent": {
     "id": "44988fed-1d66-475f-8b9b-7c73163d7285"
    },
    "slideshow": {
     "slide_type": "slide"
    }
   },
   "source": [
    "### importing modules\n",
    "\n",
    "- numpy for numerical programming\n",
    "- correlate function to perform the cross correlation of signals\n",
    "- matplotlib for charts\n",
    "- homemade functions to load and format the images\n",
    "- IPython methods to display content"
   ]
  },
  {
   "cell_type": "code",
   "execution_count": 7,
   "metadata": {
    "collapsed": true,
    "nbpresent": {
     "id": "b28577fa-68f5-4983-be97-558565e5769b"
    },
    "slideshow": {
     "slide_type": "fragment"
    }
   },
   "outputs": [],
   "source": [
    "import numpy as np\n",
    "from scipy.signal import correlate\n",
    "import matplotlib.pyplot as plt\n",
    "%matplotlib inline\n",
    "from my_modules.inthei import *\n",
    "from IPython.display import Image, SVG, display, HTML, IFrame, display_html\n",
    "gr = '#333333';location = r'\\Antigas\\Alta\\30\\253\\Imagem '"
   ]
  },
  {
   "cell_type": "markdown",
   "metadata": {
    "nbpresent": {
     "id": "c1144682-8733-4e82-b1db-d9103d08cb1b"
    },
    "slideshow": {
     "slide_type": "slide"
    }
   },
   "source": [
    "## Interface detection"
   ]
  },
  {
   "cell_type": "code",
   "execution_count": 4,
   "metadata": {
    "collapsed": false,
    "nbpresent": {
     "id": "911deeb5-c083-40fd-bd30-1bba9bf874be"
    },
    "slideshow": {
     "slide_type": "skip"
    }
   },
   "outputs": [],
   "source": [
    "gr = '#333333'\n",
    "pics = np.linspace(1,9e3,9e3)\n",
    "location = r'\\Antigas\\Alta\\30\\253\\Imagem '\n",
    "ROI = (0,792,6,68)\n",
    "iarray = im_start(pics,path=location,box=ROI)\n",
    "iarray_b = bg_removal(iarray)\n",
    "iarray_p = np.array([im_proc(i) for i in iarray_b])\n",
    "iarray_h = [interface_height(ii,62) for ii in iarray_p]"
   ]
  },
  {
   "cell_type": "code",
   "execution_count": 5,
   "metadata": {
    "collapsed": true,
    "nbpresent": {
     "id": "d501d405-a63c-4d3c-8ed1-0ed281f00448"
    },
    "slideshow": {
     "slide_type": "skip"
    }
   },
   "outputs": [],
   "source": [
    "h1 = np.zeros((iarray_p.shape[0],iarray_p.shape[1]))\n",
    "for j,ii in enumerate(iarray_p):\n",
    "    iarray_D, iarray_h = interface_height(ii,62)\n",
    "    h1[j] = iarray_h"
   ]
  },
  {
   "cell_type": "markdown",
   "metadata": {
    "nbpresent": {
     "id": "81020da8-9a0b-4bd9-b4dc-378fe483a0f4"
    },
    "slideshow": {
     "slide_type": "fragment"
    }
   },
   "source": [
    "###  Time and space signals"
   ]
  },
  {
   "cell_type": "code",
   "execution_count": 6,
   "metadata": {
    "collapsed": false,
    "nbpresent": {
     "id": "36a9c969-f1c7-4b73-86b2-3f6040e86ac1"
    },
    "slideshow": {
     "slide_type": "fragment"
    }
   },
   "outputs": [
    {
     "data": {
      "text/html": [
       "<div id=\"f24d3e923567c188\"></div>\n",
       "    <script type=\"text/javascript\">\n",
       "        $(function(){\n",
       "            var p = $(\"#f24d3e923567c188\");\n",
       "            if (p.length==0) return;\n",
       "\n",
       "            while (!p.hasClass(\"cell\")) {\n",
       "                p=p.parent();\n",
       "\n",
       "                if (p.prop(\"tagName\") ==\"body\") return;\n",
       "            }\n",
       "            var cell = p;\n",
       "            cell.find(\".input\").addClass(\"hide-in-slideshow\")\n",
       "        });\n",
       "    </script>"
      ]
     },
     "metadata": {},
     "output_type": "display_data"
    },
    {
     "data": {
      "image/png": "[encoded data removed]",
      "text/plain": [
       "<matplotlib.figure.Figure at 0x14769645780>"
      ]
     },
     "metadata": {},
     "output_type": "display_data"
    }
   ],
   "source": [
    "hide_code_in_slideshow()\n",
    "\n",
    "fig = plt.figure(figsize=(6,4/np.sqrt(2)))\n",
    "ax1 = fig.add_subplot(211)\n",
    "ax1.plot(62-h1[:,1],color=gr)\n",
    "ax1.set_title('Time')\n",
    "ax2 = fig.add_subplot(212)\n",
    "ax2.plot(62-h1[1,:],color=gr)\n",
    "ax2.set_title('Space')\n",
    "plt.tight_layout()"
   ]
  },
  {
   "cell_type": "markdown",
   "metadata": {
    "nbpresent": {
     "id": "9e79361b-e5ac-4dce-9800-feb8785981dc"
    },
    "slideshow": {
     "slide_type": "fragment"
    }
   },
   "source": [
    "### Fourier analysis - time signal and its spectrum"
   ]
  },
  {
   "cell_type": "code",
   "execution_count": 7,
   "metadata": {
    "collapsed": false,
    "nbpresent": {
     "id": "eb962a08-9438-4e96-a9d7-f512ccbb9568"
    },
    "slideshow": {
     "slide_type": "fragment"
    }
   },
   "outputs": [
    {
     "data": {
      "text/html": [
       "<div id=\"00d93b016723bb76\"></div>\n",
       "    <script type=\"text/javascript\">\n",
       "        $(function(){\n",
       "            var p = $(\"#00d93b016723bb76\");\n",
       "            if (p.length==0) return;\n",
       "\n",
       "            while (!p.hasClass(\"cell\")) {\n",
       "                p=p.parent();\n",
       "\n",
       "                if (p.prop(\"tagName\") ==\"body\") return;\n",
       "            }\n",
       "            var cell = p;\n",
       "            cell.find(\".input\").addClass(\"hide-in-slideshow\")\n",
       "        });\n",
       "    </script>"
      ]
     },
     "metadata": {},
     "output_type": "display_data"
    },
    {
     "data": {
      "image/png": "[encoded data removed]",
      "text/plain": [
       "<matplotlib.figure.Figure at 0x1456e922080>"
      ]
     },
     "metadata": {},
     "output_type": "display_data"
    }
   ],
   "source": [
    "hide_code_in_slideshow()\n",
    "\n",
    "sig = 62-h1[:,791]\n",
    "fs = 3000\n",
    "t = np.linspace(0,1000/fs,len(sig))\n",
    "Y = np.fft.fft(sig - np.mean(sig),norm='ortho')\n",
    "Y = 2 * Y / len(Y)\n",
    "Y[0] = Y[0] / 2\n",
    "f = np.fft.fftfreq(len(Y),d=1/fs)\n",
    "\n",
    "fig = plt.figure(figsize=(6,4/np.sqrt(2)))\n",
    "ax1 = fig.add_subplot(211)\n",
    "ax1.plot(t,sig,color=gr)\n",
    "ax2 = fig.add_subplot(212)\n",
    "ax2.plot(f[0:int(len(Y)/2)],np.abs(Y[0:int(len(Y)/2)])**2,'o-',\n",
    "        color=gr,label='df = {:.2f} Hz'.format(f[1]-f[0]))\n",
    "ax2.set_xlim([0, 200])\n",
    "ax2.set_ylim([0, 1.5*np.max(np.abs(Y[0:int(len(Y)/2)])**2)])\n",
    "plt.ticklabel_format(style='sci', axis='y', scilimits=(0,4))\n",
    "ax2.yaxis.major.formatter._useMathText = True\n",
    "ax2.legend(loc='best',numpoints=1,fontsize=10)\n",
    "plt.tight_layout()"
   ]
  },
  {
   "cell_type": "code",
   "execution_count": 8,
   "metadata": {
    "collapsed": false,
    "nbpresent": {
     "id": "86386a69-ddc8-4cd4-ad65-54dcf378546c"
    },
    "slideshow": {
     "slide_type": "skip"
    }
   },
   "outputs": [
    {
     "name": "stdout",
     "output_type": "stream",
     "text": [
      "Frequência média: 27.70 Hz\n"
     ]
    }
   ],
   "source": [
    "fs = 3000\n",
    "freq = []\n",
    "for i,ts in enumerate(h1.T):\n",
    "    ts_flip = np.mean(ts) - ts\n",
    "    Y = np.fft.fft(ts_flip,norm='ortho')\n",
    "    Y = 2 * Y / len(Y)\n",
    "    Y[0] = Y[0] / 2\n",
    "    f = np.fft.fftfreq(len(Y),d=1/fs)\n",
    "    idx = np.argmax(np.abs(Y[0:int(len(Y)/2)])**2)\n",
    "    freq.append(f[idx])\n",
    "print('Frequência média: {:.2f} Hz'.format(np.mean(freq)))"
   ]
  },
  {
   "cell_type": "markdown",
   "metadata": {
    "nbpresent": {
     "id": "c711b833-4d3f-43cc-92ce-e34c182a6077"
    },
    "slideshow": {
     "slide_type": "slide"
    }
   },
   "source": [
    "## Histograms\n",
    "\n",
    "### Frequency and velocity"
   ]
  },
  {
   "cell_type": "code",
   "execution_count": 9,
   "metadata": {
    "collapsed": false,
    "nbpresent": {
     "id": "863c17a0-f691-4f26-805e-96e7948e2aeb"
    },
    "slideshow": {
     "slide_type": "fragment"
    }
   },
   "outputs": [
    {
     "data": {
      "text/html": [
       "<div id=\"def9e18732b36d15\"></div>\n",
       "    <script type=\"text/javascript\">\n",
       "        $(function(){\n",
       "            var p = $(\"#def9e18732b36d15\");\n",
       "            if (p.length==0) return;\n",
       "\n",
       "            while (!p.hasClass(\"cell\")) {\n",
       "                p=p.parent();\n",
       "\n",
       "                if (p.prop(\"tagName\") ==\"body\") return;\n",
       "            }\n",
       "            var cell = p;\n",
       "            cell.find(\".input\").addClass(\"hide-in-slideshow\")\n",
       "        });\n",
       "    </script>"
      ]
     },
     "metadata": {},
     "output_type": "display_data"
    },
    {
     "data": {
      "image/png": "[encoded data removed]",
      "text/plain": [
       "<matplotlib.figure.Figure at 0x1475f49ef28>"
      ]
     },
     "metadata": {},
     "output_type": "display_data"
    }
   ],
   "source": [
    "hide_code_in_slideshow()\n",
    "\n",
    "fig = plt.figure(figsize=(12,4))\n",
    "ax1 = fig.add_subplot(121)\n",
    "ax1.hist(freq,bins=10,orientation='horizontal',\n",
    "         histtype='bar',color=gr,normed=False,\n",
    "        label='Mean frequency: {:.2f} Hz'.format(np.mean(freq)))\n",
    "ax1.set_ylabel('Frequency (Hz)')\n",
    "ax1.set_xlabel('Occurrences (-)')\n",
    "plt.legend();\n",
    "\n",
    "b = []\n",
    "for i in range(np.shape(h1.T)[0]-50):\n",
    "    b.append(np.argmax(correlate(5*(62-h1.T[i,:9000])/62,\n",
    "                                 5*(62-h1.T[i+50,:9000])/62,mode='same')))\n",
    "ax2 = fig.add_subplot(122)\n",
    "ax2.hist(50 / (np.array(b) - 4500) * 5 / 62 * fs,bins=10,\n",
    "        orientation='horizontal',color=gr,\n",
    "        label='Mean velocity: {:.2f} mm/s'.format(np.mean(50 / (np.array(b) - 4500) * (5 / 62) * fs)))\n",
    "ax2.set_ylabel('Velocity (mm/s)')\n",
    "ax2.set_xlabel('Occurrences (-)')\n",
    "plt.legend();"
   ]
  },
  {
   "cell_type": "markdown",
   "metadata": {
    "nbpresent": {
     "id": "dc17fec0-8129-47a8-a5e9-3e1fff204df8"
    },
    "slideshow": {
     "slide_type": "slide"
    }
   },
   "source": [
    "##  Image superposition"
   ]
  },
  {
   "cell_type": "code",
   "execution_count": 8,
   "metadata": {
    "collapsed": false,
    "nbpresent": {
     "id": "510084bf-fb7c-4862-9515-e0a0255a8286"
    },
    "slideshow": {
     "slide_type": "skip"
    }
   },
   "outputs": [],
   "source": [
    "ROI = (0,792,54,55)\n",
    "imgs = np.zeros((1,792),dtype=\"int32\")\n",
    "for i in np.linspace(1,9000,9000):\n",
    "    a = imread_x(i,path=location,box=ROI).T\n",
    "    imgs = np.concatenate((imgs,a))"
   ]
  },
  {
   "cell_type": "markdown",
   "metadata": {
    "nbpresent": {
     "id": "582592e8-11f3-4468-9afc-36b67e0c7a4c"
    },
    "slideshow": {
     "slide_type": "fragment"
    }
   },
   "source": [
    "###  Time and space signals"
   ]
  },
  {
   "cell_type": "code",
   "execution_count": 11,
   "metadata": {
    "collapsed": false,
    "nbpresent": {
     "id": "08eb5abe-a527-4ec3-b898-221f1038cb34"
    },
    "slideshow": {
     "slide_type": "fragment"
    }
   },
   "outputs": [
    {
     "data": {
      "text/html": [
       "<div id=\"3991463e5d843f9d\"></div>\n",
       "    <script type=\"text/javascript\">\n",
       "        $(function(){\n",
       "            var p = $(\"#3991463e5d843f9d\");\n",
       "            if (p.length==0) return;\n",
       "\n",
       "            while (!p.hasClass(\"cell\")) {\n",
       "                p=p.parent();\n",
       "\n",
       "                if (p.prop(\"tagName\") ==\"body\") return;\n",
       "            }\n",
       "            var cell = p;\n",
       "            cell.find(\".input\").addClass(\"hide-in-slideshow\")\n",
       "        });\n",
       "    </script>"
      ]
     },
     "metadata": {},
     "output_type": "display_data"
    },
    {
     "data": {
      "image/png": "[encoded data removed]",
      "text/plain": [
       "<matplotlib.figure.Figure at 0x1475f4a66a0>"
      ]
     },
     "metadata": {},
     "output_type": "display_data"
    }
   ],
   "source": [
    "hide_code_in_slideshow()\n",
    "fig = plt.figure(figsize=(6,4/np.sqrt(2)))\n",
    "ax1 = fig.add_subplot(211)\n",
    "ax1.plot(imgs.T[1],color=gr)\n",
    "ax1.set_title('Time')\n",
    "ax2 = fig.add_subplot(212)\n",
    "ax2.plot(imgs.T[:,1],color=gr)\n",
    "ax2.set_title('Space')\n",
    "plt.tight_layout()"
   ]
  },
  {
   "cell_type": "markdown",
   "metadata": {
    "nbpresent": {
     "id": "194c01a4-9c67-4616-b02d-8cf464396b21"
    },
    "slideshow": {
     "slide_type": "fragment"
    }
   },
   "source": [
    "### Fourier analysis - time signal and its spectrum"
   ]
  },
  {
   "cell_type": "code",
   "execution_count": 10,
   "metadata": {
    "collapsed": false,
    "nbpresent": {
     "id": "5e67e67b-69d0-491c-82e9-c164da757079"
    },
    "slideshow": {
     "slide_type": "fragment"
    }
   },
   "outputs": [
    {
     "data": {
      "text/html": [
       "<div id=\"17598a3e42dba998\"></div>\n",
       "    <script type=\"text/javascript\">\n",
       "        $(function(){\n",
       "            var p = $(\"#17598a3e42dba998\");\n",
       "            if (p.length==0) return;\n",
       "\n",
       "            while (!p.hasClass(\"cell\")) {\n",
       "                p=p.parent();\n",
       "\n",
       "                if (p.prop(\"tagName\") ==\"body\") return;\n",
       "            }\n",
       "            var cell = p;\n",
       "            cell.find(\".input\").addClass(\"hide-in-slideshow\")\n",
       "        });\n",
       "    </script>"
      ]
     },
     "metadata": {},
     "output_type": "display_data"
    },
    {
     "data": {
      "image/png": "[encoded data removed]",
      "text/plain": [
       "<matplotlib.figure.Figure at 0x1c754170eb8>"
      ]
     },
     "metadata": {},
     "output_type": "display_data"
    }
   ],
   "source": [
    "hide_code_in_slideshow()\n",
    "sig = imgs.T[500] - np.mean(imgs.T[500])\n",
    "fs = 3000\n",
    "t = np.linspace(0,1000/fs,len(sig))\n",
    "Y = np.fft.fft(sig,norm='ortho')\n",
    "Y = 2 * Y / len(Y)\n",
    "Y[0] = Y[0] / 2\n",
    "f = np.fft.fftfreq(len(Y),d=1/fs)\n",
    "fig = plt.figure(figsize=(6,4/np.sqrt(2)))\n",
    "ax1 = fig.add_subplot(211)\n",
    "ax1.plot(t,sig,color=gr)\n",
    "ax2 = fig.add_subplot(212)\n",
    "ax2.plot(f[0:int(len(Y)/2)],np.abs(Y[0:int(len(Y)/2)])**2,'o-',\n",
    "        color=gr,label='df = {:.2f} Hz'.format(f[1]-f[0]))\n",
    "ax2.set_xlim([0, 200])\n",
    "ax2.set_ylim([0, 1.5*np.max(np.abs(Y[0:int(len(Y)/2)])**2)])\n",
    "plt.ticklabel_format(style='sci', axis='y', scilimits=(0,4))\n",
    "ax2.yaxis.major.formatter._useMathText = True\n",
    "ax2.legend(loc='best',numpoints=1,fontsize=10)\n",
    "plt.tight_layout()"
   ]
  },
  {
   "cell_type": "code",
   "execution_count": 11,
   "metadata": {
    "collapsed": false,
    "nbpresent": {
     "id": "a5458832-9e56-43ac-9bb1-373643cc82f7"
    },
    "slideshow": {
     "slide_type": "skip"
    }
   },
   "outputs": [
    {
     "name": "stdout",
     "output_type": "stream",
     "text": [
      "Frequência média: 41.80 Hz\n"
     ]
    }
   ],
   "source": [
    "freq = []\n",
    "for i,ts in enumerate(imgs.T):\n",
    "    ts_flip = ts - np.mean(ts)\n",
    "    Y = np.fft.fft(ts_flip,norm='ortho')\n",
    "    Y = 2 * Y / len(Y)\n",
    "    Y[0] = Y[0] / 2\n",
    "    f = np.fft.fftfreq(len(Y),d=1/fs)\n",
    "    idx = np.argmax(np.abs(Y[0:int(len(Y)/2)])**2)\n",
    "    freq.append(f[idx])\n",
    "print('Frequência média: {:.2f} Hz'.format(np.mean(freq)))"
   ]
  },
  {
   "cell_type": "markdown",
   "metadata": {
    "nbpresent": {
     "id": "e1321be0-b4c4-49e7-9d92-ef851c9375da"
    },
    "slideshow": {
     "slide_type": "subslide"
    }
   },
   "source": [
    "### Histogram"
   ]
  },
  {
   "cell_type": "code",
   "execution_count": 12,
   "metadata": {
    "collapsed": false,
    "nbpresent": {
     "id": "2d0ce124-a501-4fa0-852d-82bac00aab3c"
    },
    "slideshow": {
     "slide_type": "fragment"
    }
   },
   "outputs": [
    {
     "data": {
      "text/html": [
       "<div id=\"e2f01abf136e3e58\"></div>\n",
       "    <script type=\"text/javascript\">\n",
       "        $(function(){\n",
       "            var p = $(\"#e2f01abf136e3e58\");\n",
       "            if (p.length==0) return;\n",
       "\n",
       "            while (!p.hasClass(\"cell\")) {\n",
       "                p=p.parent();\n",
       "\n",
       "                if (p.prop(\"tagName\") ==\"body\") return;\n",
       "            }\n",
       "            var cell = p;\n",
       "            cell.find(\".input\").addClass(\"hide-in-slideshow\")\n",
       "        });\n",
       "    </script>"
      ]
     },
     "metadata": {},
     "output_type": "display_data"
    },
    {
     "data": {
      "image/png": "[encoded data removed]",
      "text/plain": [
       "<matplotlib.figure.Figure at 0x1c7510d2390>"
      ]
     },
     "metadata": {},
     "output_type": "display_data"
    }
   ],
   "source": [
    "hide_code_in_slideshow()\n",
    "\n",
    "fig = plt.figure(figsize=(12,4))\n",
    "ax1 = fig.add_subplot(121)\n",
    "ax1.hist(freq,bins=10,orientation='horizontal',\n",
    "         histtype='bar',color=gr,normed=False,\n",
    "        label='Mean frequency: {:.2f} Hz'.format(np.mean(freq)))\n",
    "ax1.set_ylabel('Frequency (Hz)')\n",
    "ax1.set_xlabel('Occurrences (-)')\n",
    "plt.legend();\n",
    "\n",
    "b = []\n",
    "for i in range(np.shape(imgs.T)[0]-50):\n",
    "    b.append(np.argmax(np.correlate(imgs.T[i][:9000],imgs.T[i+50][:9000],mode='same')))\n",
    "\n",
    "ax2 = fig.add_subplot(122)\n",
    "ax2.hist(50 / (np.array(b) - 4500) * 5 / 62 * fs,\n",
    "        orientation='horizontal',color=gr,\n",
    "        label='Mean velocity: {:.2f} mm/s'.format(np.mean(50 / (np.array(b) - 4500) * (5 / 62) * fs)))\n",
    "ax2.set_ylabel('Velocity (mm/s)')\n",
    "ax2.set_xlabel('Occurrences (-)')\n",
    "plt.legend();"
   ]
  },
  {
   "cell_type": "code",
   "execution_count": null,
   "metadata": {
    "collapsed": true,
    "slideshow": {
     "slide_type": "skip"
    }
   },
   "outputs": [],
   "source": []
  }
 ],
 "metadata": {
  "anaconda-cloud": {},
  "celltoolbar": "Slideshow",
  "kernelspec": {
   "display_name": "Python [default]",
   "language": "python",
   "name": "python3"
  },
  "language_info": {
   "codemirror_mode": {
    "name": "ipython",
    "version": 3
   },
   "file_extension": ".py",
   "mimetype": "text/x-python",
   "name": "python",
   "nbconvert_exporter": "python",
   "pygments_lexer": "ipython3",
   "version": "3.5.3"
  },
  "nbpresent": {
   "slides": {
    "0f20e33f-0c12-4e18-9c3a-3eaa2c834af2": {
     "id": "0f20e33f-0c12-4e18-9c3a-3eaa2c834af2",
     "prev": "8767f12f-f4fe-473c-ae33-65f3c8be838a",
     "regions": {
      "12a5fe11-9226-46ec-8fca-fe0c5b0cfdf8": {
       "attrs": {
        "height": 0.4,
        "width": 0.8,
        "x": 0.1,
        "y": 0.5
       },
       "content": {
        "cell": "863c17a0-f691-4f26-805e-96e7948e2aeb",
        "part": "whole"
       },
       "id": "12a5fe11-9226-46ec-8fca-fe0c5b0cfdf8"
      },
      "acca8bf1-fa3b-49df-8e79-766a702892f7": {
       "attrs": {
        "height": 0.8,
        "width": 0.8,
        "x": 0.1,
        "y": 0.1
       },
       "content": {
        "cell": "c711b833-4d3f-43cc-92ce-e34c182a6077",
        "part": "whole"
       },
       "id": "acca8bf1-fa3b-49df-8e79-766a702892f7"
      }
     }
    },
    "6bbc8f71-02b5-4d0a-b2e3-2ddf80215896": {
     "id": "6bbc8f71-02b5-4d0a-b2e3-2ddf80215896",
     "prev": "bfa85c00-fc4e-4408-86f0-347c2f1147c5",
     "regions": {
      "04cefafb-964f-482f-9399-ff31389a715f": {
       "attrs": {
        "height": 0.8,
        "width": 0.8,
        "x": 0.1,
        "y": 0.1
       },
       "content": {
        "cell": "582592e8-11f3-4468-9afc-36b67e0c7a4c",
        "part": "whole"
       },
       "id": "04cefafb-964f-482f-9399-ff31389a715f"
      },
      "4a7f7047-bd93-46be-9fde-0a1711a2dddc": {
       "attrs": {
        "height": 0.4,
        "width": 0.8,
        "x": 0.1,
        "y": 0.5
       },
       "content": {
        "cell": "08eb5abe-a527-4ec3-b898-221f1038cb34",
        "part": "whole"
       },
       "id": "4a7f7047-bd93-46be-9fde-0a1711a2dddc"
      }
     }
    },
    "8767f12f-f4fe-473c-ae33-65f3c8be838a": {
     "id": "8767f12f-f4fe-473c-ae33-65f3c8be838a",
     "prev": "da76bb9c-bc6b-415e-9221-8064a66455e2",
     "regions": {
      "69bacff3-df80-4ade-b528-106beb172c77": {
       "attrs": {
        "height": 0.8,
        "width": 0.8,
        "x": 0.1,
        "y": 0.1
       },
       "content": {
        "cell": "9e79361b-e5ac-4dce-9800-feb8785981dc",
        "part": "whole"
       },
       "id": "69bacff3-df80-4ade-b528-106beb172c77"
      },
      "a9c5ac57-6816-4d8f-8d7b-d9e876764dcf": {
       "attrs": {
        "height": 0.4,
        "width": 0.8,
        "x": 0.1,
        "y": 0.5
       },
       "content": {
        "cell": "eb962a08-9438-4e96-a9d7-f512ccbb9568",
        "part": "whole"
       },
       "id": "a9c5ac57-6816-4d8f-8d7b-d9e876764dcf"
      }
     }
    },
    "ab0633ba-f311-49bb-8f6c-f3629ff8562e": {
     "id": "ab0633ba-f311-49bb-8f6c-f3629ff8562e",
     "prev": "f3a472ed-a64e-44e8-b121-d8edff32991b",
     "regions": {
      "5add2d62-10b4-4006-931e-e61309671bbb": {
       "attrs": {
        "height": 0.8,
        "width": 0.8,
        "x": 0.1,
        "y": 0.1
       },
       "content": {
        "cell": "e1321be0-b4c4-49e7-9d92-ef851c9375da",
        "part": "whole"
       },
       "id": "5add2d62-10b4-4006-931e-e61309671bbb"
      },
      "f3794f3b-7cc7-4b53-a2c8-8a19d2dcf6eb": {
       "attrs": {
        "height": 0.4,
        "width": 0.8,
        "x": 0.1,
        "y": 0.5
       },
       "content": {
        "cell": "2d0ce124-a501-4fa0-852d-82bac00aab3c",
        "part": "whole"
       },
       "id": "f3794f3b-7cc7-4b53-a2c8-8a19d2dcf6eb"
      }
     }
    },
    "ad447fd4-d32a-4ded-99e7-a25a9f31c0f7": {
     "id": "ad447fd4-d32a-4ded-99e7-a25a9f31c0f7",
     "prev": "ab0633ba-f311-49bb-8f6c-f3629ff8562e",
     "regions": {
      "1a9cee73-938e-4c52-b43a-80e60b1a0581": {
       "attrs": {
        "height": 0.4,
        "width": 0.8,
        "x": 0.1,
        "y": 0.5
       },
       "content": {
        "cell": "076e1c0d-ae44-40d0-970c-0cf8526c5d46",
        "part": "whole"
       },
       "id": "1a9cee73-938e-4c52-b43a-80e60b1a0581"
      },
      "4e7e6a20-d7ae-4932-a6b6-b71cc8352b9f": {
       "attrs": {
        "height": 0.8,
        "width": 0.8,
        "x": 0.1,
        "y": 0.1
       },
       "content": {
        "cell": "e7922d97-49f8-49ad-a46e-49b97d691abd",
        "part": "whole"
       },
       "id": "4e7e6a20-d7ae-4932-a6b6-b71cc8352b9f"
      }
     }
    },
    "b7b686fd-8a7e-40a0-8402-cbea48790011": {
     "id": "b7b686fd-8a7e-40a0-8402-cbea48790011",
     "prev": null,
     "regions": {
      "5ba0bbef-f2df-447e-82ff-72637108f106": {
       "attrs": {
        "height": 0.8,
        "width": 0.8,
        "x": 0.1,
        "y": 0.1
       },
       "content": {
        "cell": "f96a2a0c-8b26-4160-b025-23d63eefbeba",
        "part": "whole"
       },
       "id": "5ba0bbef-f2df-447e-82ff-72637108f106"
      }
     }
    },
    "ba0a08c4-0b3d-4a96-b81f-b2aa890d4df2": {
     "id": "ba0a08c4-0b3d-4a96-b81f-b2aa890d4df2",
     "prev": "b7b686fd-8a7e-40a0-8402-cbea48790011",
     "regions": {
      "74b12981-8f28-46b7-bd06-65b7e3eb4ba6": {
       "attrs": {
        "height": 0.4,
        "width": 0.8,
        "x": 0.1,
        "y": 0.5
       },
       "content": {
        "cell": "b28577fa-68f5-4983-be97-558565e5769b",
        "part": "whole"
       },
       "id": "74b12981-8f28-46b7-bd06-65b7e3eb4ba6"
      },
      "a78de61a-270b-4353-bbbe-df4d01cdafc3": {
       "attrs": {
        "height": 0.8,
        "width": 0.8,
        "x": 0.1,
        "y": 0.1
       },
       "content": {
        "cell": "44988fed-1d66-475f-8b9b-7c73163d7285",
        "part": "whole"
       },
       "id": "a78de61a-270b-4353-bbbe-df4d01cdafc3"
      }
     }
    },
    "bfa85c00-fc4e-4408-86f0-347c2f1147c5": {
     "id": "bfa85c00-fc4e-4408-86f0-347c2f1147c5",
     "prev": "d08c60a8-29e2-41c7-bf46-c90ef37c48f2",
     "regions": {
      "aa9d0f2d-d494-4ad8-afc5-872729d3f5c3": {
       "attrs": {
        "height": 0.8,
        "width": 0.8,
        "x": 0.1,
        "y": 0.1
       },
       "content": {
        "cell": "dc17fec0-8129-47a8-a5e9-3e1fff204df8",
        "part": "whole"
       },
       "id": "aa9d0f2d-d494-4ad8-afc5-872729d3f5c3"
      }
     }
    },
    "d08c60a8-29e2-41c7-bf46-c90ef37c48f2": {
     "id": "d08c60a8-29e2-41c7-bf46-c90ef37c48f2",
     "prev": "0f20e33f-0c12-4e18-9c3a-3eaa2c834af2",
     "regions": {
      "a66b4fc3-7006-455d-9c18-c70ed727e868": {
       "attrs": {
        "height": 0.4,
        "width": 0.8,
        "x": 0.1,
        "y": 0.5
       },
       "content": {
        "cell": "088dc270-ec95-494c-941c-426b4d4e7c16",
        "part": "whole"
       },
       "id": "a66b4fc3-7006-455d-9c18-c70ed727e868"
      },
      "f0440724-e095-4ae6-9b95-60f1552b3ed9": {
       "attrs": {
        "height": 0.8,
        "width": 0.8,
        "x": 0.1,
        "y": 0.1
       },
       "content": {
        "cell": "e53acbf9-e83c-4a9a-9759-c3ddcebcbca8",
        "part": "whole"
       },
       "id": "f0440724-e095-4ae6-9b95-60f1552b3ed9"
      }
     }
    },
    "da76bb9c-bc6b-415e-9221-8064a66455e2": {
     "id": "da76bb9c-bc6b-415e-9221-8064a66455e2",
     "prev": "f5187f41-d622-4607-af6d-157a48db880e",
     "regions": {
      "6c882fa8-b607-4695-90bd-bb35abf595c5": {
       "attrs": {
        "height": 0.8,
        "width": 0.8,
        "x": 0.1,
        "y": 0.1
       },
       "content": {
        "cell": "81020da8-9a0b-4bd9-b4dc-378fe483a0f4",
        "part": "whole"
       },
       "id": "6c882fa8-b607-4695-90bd-bb35abf595c5"
      },
      "db549670-20cc-43c1-8181-ad3928bfd164": {
       "attrs": {
        "height": 0.4,
        "width": 0.8,
        "x": 0.1,
        "y": 0.5
       },
       "content": {
        "cell": "36a9c969-f1c7-4b73-86b2-3f6040e86ac1",
        "part": "whole"
       },
       "id": "db549670-20cc-43c1-8181-ad3928bfd164"
      }
     }
    },
    "f3a472ed-a64e-44e8-b121-d8edff32991b": {
     "id": "f3a472ed-a64e-44e8-b121-d8edff32991b",
     "prev": "6bbc8f71-02b5-4d0a-b2e3-2ddf80215896",
     "regions": {
      "0dacb89a-8e0b-4c9d-9d87-61767944a2f3": {
       "attrs": {
        "height": 0.8,
        "width": 0.8,
        "x": 0.1,
        "y": 0.1
       },
       "content": {
        "cell": "194c01a4-9c67-4616-b02d-8cf464396b21",
        "part": "whole"
       },
       "id": "0dacb89a-8e0b-4c9d-9d87-61767944a2f3"
      },
      "d4c9fba1-12e8-4964-8604-d40ed7747798": {
       "attrs": {
        "height": 0.4,
        "width": 0.8,
        "x": 0.1,
        "y": 0.5
       },
       "content": {
        "cell": "5e67e67b-69d0-491c-82e9-c164da757079",
        "part": "whole"
       },
       "id": "d4c9fba1-12e8-4964-8604-d40ed7747798"
      }
     }
    },
    "f5187f41-d622-4607-af6d-157a48db880e": {
     "id": "f5187f41-d622-4607-af6d-157a48db880e",
     "prev": "ba0a08c4-0b3d-4a96-b81f-b2aa890d4df2",
     "regions": {
      "4133b678-6077-4cc1-9946-9da0c1ef8d2d": {
       "attrs": {
        "height": 0.8,
        "width": 0.8,
        "x": 0.1,
        "y": 0.1
       },
       "content": {
        "cell": "5ad65aa4-e278-4911-b848-f517fe49e87e",
        "part": "whole"
       },
       "id": "4133b678-6077-4cc1-9946-9da0c1ef8d2d"
      },
      "843bf5ef-db68-4c42-a48d-701c0afce3ff": {
       "attrs": {
        "height": 0.4,
        "width": 0.8,
        "x": 0.1,
        "y": 0.5
       },
       "content": {
        "cell": "c1144682-8733-4e82-b1db-d9103d08cb1b",
        "part": "whole"
       },
       "id": "843bf5ef-db68-4c42-a48d-701c0afce3ff"
      }
     }
    }
   },
   "themes": {
    "default": "8098b5b5-a308-4fda-8fba-61f0d5f43038",
    "theme": {
     "8098b5b5-a308-4fda-8fba-61f0d5f43038": {
      "backgrounds": {
       "backgroundColor": {
        "background-color": "backgroundColor",
        "id": "backgroundColor"
       }
      },
      "id": "8098b5b5-a308-4fda-8fba-61f0d5f43038",
      "palette": {
       "backgroundColor": {
        "id": "backgroundColor",
        "rgb": [
         256,
         256,
         256
        ]
       },
       "headingColor": {
        "id": "headingColor",
        "rgb": [
         0,
         0,
         0
        ]
       },
       "linkColor": {
        "id": "linkColor",
        "rgb": [
         0,
         0,
         139
        ]
       },
       "mainColor": {
        "id": "mainColor",
        "rgb": [
         0,
         0,
         0
        ]
       }
      },
      "rules": {
       "a": {
        "color": "linkColor"
       },
       "h1": {
        "color": "headingColor",
        "font-family": "News Cycle",
        "font-size": 7
       },
       "h2": {
        "color": "headingColor",
        "font-family": "News Cycle",
        "font-size": 5
       },
       "h3": {
        "color": "headingColor",
        "font-family": "News Cycle",
        "font-size": 3.75
       },
       "h4": {
        "color": "headingColor",
        "font-family": "News Cycle",
        "font-size": 3
       },
       "h5": {
        "color": "headingColor",
        "font-family": "News Cycle"
       },
       "h6": {
        "color": "headingColor",
        "font-family": "News Cycle"
       },
       "h7": {
        "color": "headingColor",
        "font-family": "News Cycle"
       },
       "li": {
        "color": "mainColor",
        "font-family": "Lato",
        "font-size": 5
       },
       "p": {
        "color": "mainColor",
        "font-family": "Lato",
        "font-size": 5
       }
      },
      "text-base": {
       "color": "mainColor",
       "font-family": "Lato",
       "font-size": 5
      }
     }
    }
   }
  }
 },
 "nbformat": 4,
 "nbformat_minor": 1
}
