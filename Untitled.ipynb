{
 "cells": [
  {
   "cell_type": "markdown",
   "metadata": {},
   "source": [
    "# Hello, _nbpresent_!"
   ]
  },
  {
   "cell_type": "code",
   "execution_count": null,
   "metadata": {
    "collapsed": true
   },
   "outputs": [],
   "source": [
    "import nbpresent\n",
    "nbpresent.__version__"
   ]
  },
  {
   "cell_type": "markdown",
   "metadata": {
    "nbpresent": {
     "id": "db78d207-447a-4ef2-8a5c-8494cee39934"
    }
   },
   "source": [
    "# começo"
   ]
  },
  {
   "cell_type": "code",
   "execution_count": 4,
   "metadata": {
    "collapsed": false,
    "nbpresent": {
     "id": "6e037496-d7ce-420b-8ab1-e85747cb2787"
    }
   },
   "outputs": [
    {
     "name": "stdout",
     "output_type": "stream",
     "text": [
      "5\n"
     ]
    }
   ],
   "source": [
    "a = 2\n",
    "print(a + 3)"
   ]
  },
  {
   "cell_type": "code",
   "execution_count": null,
   "metadata": {
    "collapsed": true
   },
   "outputs": [],
   "source": []
  }
 ],
 "metadata": {
  "kernelspec": {
   "display_name": "Python [default]",
   "language": "python",
   "name": "python3"
  },
  "language_info": {
   "codemirror_mode": {
    "name": "ipython",
    "version": 3
   },
   "file_extension": ".py",
   "mimetype": "text/x-python",
   "name": "python",
   "nbconvert_exporter": "python",
   "pygments_lexer": "ipython3",
   "version": "3.5.2"
  },
  "nbpresent": {
   "slides": {
    "5ca16e52-7658-4b81-ba4b-5a971dfae6be": {
     "id": "5ca16e52-7658-4b81-ba4b-5a971dfae6be",
     "prev": "8d4738a4-a8c3-420f-b150-81a08249aaf1",
     "regions": {
      "d9a2d288-09b6-40d7-9878-19dac9086702": {
       "attrs": {
        "height": 0.8,
        "width": 0.8,
        "x": 0.1,
        "y": 0.1
       },
       "content": {
        "cell": "6e037496-d7ce-420b-8ab1-e85747cb2787",
        "part": "whole"
       },
       "id": "d9a2d288-09b6-40d7-9878-19dac9086702"
      }
     }
    },
    "7320985a-909e-4083-8d9c-7dff64e5f6c1": {
     "id": "7320985a-909e-4083-8d9c-7dff64e5f6c1",
     "prev": "5ca16e52-7658-4b81-ba4b-5a971dfae6be",
     "regions": {
      "146cf034-43e0-42d3-a96d-4ddf08447eeb": {
       "attrs": {
        "height": 1,
        "width": 1,
        "x": 0,
        "y": 0
       },
       "content": {
        "cell": "6e037496-d7ce-420b-8ab1-e85747cb2787",
        "part": "source"
       },
       "id": "146cf034-43e0-42d3-a96d-4ddf08447eeb"
      }
     }
    },
    "8d4738a4-a8c3-420f-b150-81a08249aaf1": {
     "id": "8d4738a4-a8c3-420f-b150-81a08249aaf1",
     "prev": null,
     "regions": {
      "e15ad47c-4b99-4d70-9840-52a3b48eb452": {
       "attrs": {
        "height": 0.8,
        "width": 0.8,
        "x": 0.1,
        "y": 0.1
       },
       "content": {
        "cell": "db78d207-447a-4ef2-8a5c-8494cee39934",
        "part": "source"
       },
       "id": "e15ad47c-4b99-4d70-9840-52a3b48eb452"
      }
     }
    }
   },
   "themes": {}
  }
 },
 "nbformat": 4,
 "nbformat_minor": 1
}
