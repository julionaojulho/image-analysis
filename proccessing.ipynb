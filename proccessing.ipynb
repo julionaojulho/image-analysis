{
 "cells": [
  {
   "cell_type": "code",
   "execution_count": 3,
   "metadata": {
    "collapsed": true
   },
   "outputs": [],
   "source": [
    "import numpy as np\n",
    "import matplotlib.pyplot as plt\n",
    "%matplotlib inline\n",
    "from scipy import ndimage as ndi\n",
    "from skimage import color\n",
    "from skimage import io\n",
    "from skimage.filters import threshold_otsu\n",
    "from skimage import morphology"
   ]
  },
  {
   "cell_type": "code",
   "execution_count": 4,
   "metadata": {
    "collapsed": true
   },
   "outputs": [],
   "source": [
    "def imread_x(f,path,box=(0,792,0,85)):\n",
    "    return color.rgb2gray(io.imread(\n",
    "            r'D:\\JulioFerreira\\Mestrado\\Imagens' + path + \n",
    "            '(%d).jpg'%f)[box[0]:box[1],box[2]:box[3]])\n",
    "\n",
    "def im_start(pic,box,path):\n",
    "    im_matrix = io.ImageCollection(\n",
    "        pic,box,path,load_func=imread_x)\n",
    "    return(im_matrix.concatenate())\n",
    "\n",
    "def bg_im(im):\n",
    "    bg = np.zeros(im.shape,dtype=int)\n",
    "    bg[:,0:np.floor_divide(im.shape[1],2)] = 255\n",
    "    return(bg)\n",
    "\n",
    "def bg_removal(im_mat):\n",
    "    bg = bg_im(im[0])\n",
    "    im_int = im_mat * 255\n",
    "    im_int = im_int.astype(int)\n",
    "    no_bg = im_int - bg\n",
    "    no_bg[no_bg < 0] = 0\n",
    "    return(no_bg)\n",
    "\n",
    "from skimage.filters import threshold_otsu\n",
    "from skimage import morphology\n",
    "\n",
    "def im_proc(im):\n",
    "    th = threshold_otsu(im)\n",
    "    im_bin = im > th\n",
    "    return(ndi.binary_fill_holes(\n",
    "            morphology.binary_remove_small_objects(\n",
    "                morphology.binary_closing(\n",
    "                    im_bin,np.ones((3,3))),30)))"
   ]
  },
  {
   "cell_type": "code",
   "execution_count": null,
   "metadata": {
    "collapsed": true
   },
   "outputs": [],
   "source": []
  }
 ],
 "metadata": {
  "kernelspec": {
   "display_name": "Python 3",
   "language": "python",
   "name": "python3"
  },
  "language_info": {
   "codemirror_mode": {
    "name": "ipython",
    "version": 3
   },
   "file_extension": ".py",
   "mimetype": "text/x-python",
   "name": "python",
   "nbconvert_exporter": "python",
   "pygments_lexer": "ipython3",
   "version": "3.5.2"
  }
 },
 "nbformat": 4,
 "nbformat_minor": 0
}
